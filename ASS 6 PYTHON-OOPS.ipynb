{
 "cells": [
  {
   "cell_type": "markdown",
   "id": "460f96ad-7709-41ae-9cc1-e0785d2913e2",
   "metadata": {},
   "source": [
    "## Question 1: (5 Marks)\n",
    "### Build a program to manage a university's course catalog. You want to define a base class Course that has the following properties:\n",
    "##### course_code: a string representing the course code (e.g., \"CS101\")\n",
    "##### course_name: a string representing the course name (e.g., \"Introduction to Computer Science\")\n",
    "##### credit_hours: an integer representing the credit hours for the course (e.g., 3)\n",
    "#### You also want to define two subclasses CoreCourse and ElectiveCourse, which inherit from the Course class.\n",
    "#### CoreCourse should have an additional property required_for_major which is a boolean representing whether the course is required for a particular major.\n",
    "#### ElectiveCourse should have an additional property elective_type which is a string representing the type of elective (e.g., \"general\", \"technical\", \"liberal arts\").\n",
    "\n"
   ]
  },
  {
   "cell_type": "code",
   "execution_count": 3,
   "id": "7db3bde0-0324-47a9-8ed4-d6ef33c43fba",
   "metadata": {},
   "outputs": [
    {
     "name": "stdout",
     "output_type": "stream",
     "text": [
      "Course Code: CS101, Name: Introduction to Computer Science, Credit Hours: 3, Required for Major: True\n",
      "Course Code: HIST202, Name: World History, Credit Hours: 2, Elective Type: liberal arts\n"
     ]
    }
   ],
   "source": [
    "class Course:\n",
    "    def __init__(self, course_code, course_name, credit_hours):\n",
    "        self.course_code = course_code\n",
    "        self.course_name = course_name\n",
    "        self.credit_hours = credit_hours\n",
    "\n",
    "    def display_info(self):\n",
    "        return f\"Course Code: {self.course_code}, Name: {self.course_name}, Credit Hours: {self.credit_hours}\"\n",
    "\n",
    "class CoreCourse(Course):\n",
    "    def __init__(self, course_code, course_name, credit_hours, required_for_major):\n",
    "        super().__init__(course_code, course_name, credit_hours)\n",
    "        self.required_for_major = required_for_major\n",
    "\n",
    "    def display_info(self):\n",
    "        return super().display_info() + f\", Required for Major: {self.required_for_major}\"\n",
    "\n",
    "class ElectiveCourse(Course):\n",
    "    def __init__(self, course_code, course_name, credit_hours, elective_type):\n",
    "        super().__init__(course_code, course_name, credit_hours)\n",
    "        self.elective_type = elective_type\n",
    "\n",
    "    def display_info(self):\n",
    "        return super().display_info() + f\", Elective Type: {self.elective_type}\"\n",
    "\n",
    "# Example Usage\n",
    "core = CoreCourse(\"CS101\", \"Introduction to Computer Science\", 3, True)\n",
    "elective = ElectiveCourse(\"HIST202\", \"World History\", 2, \"liberal arts\")\n",
    "\n",
    "print(core.display_info())\n",
    "print(elective.display_info())"
   ]
  },
  {
   "cell_type": "markdown",
   "id": "0ab55b3f-fc1d-4fe9-b379-433ff04e898d",
   "metadata": {},
   "source": [
    "### Question 2: (5 Marks)\n",
    "#### Create a Python module named employee that contains a class Employee with attributes name, salary and methods get_name() and get_salary(). Write a program to use this module to create an object of the Employee class and display its name and salary.\n"
   ]
  },
  {
   "cell_type": "code",
   "execution_count": 16,
   "id": "7a22bffe-d7ba-4e04-9787-08590dc3ac6e",
   "metadata": {},
   "outputs": [
    {
     "name": "stdout",
     "output_type": "stream",
     "text": [
      "Employee Name: John Doe\n",
      "Employee Salary: 50000\n"
     ]
    }
   ],
   "source": [
    "import employee\n",
    "\n",
    "# Create an Employee object\n",
    "emp = employee.Employee(\"John Doe\", 50000)\n",
    "\n",
    "# Display Employee details\n",
    "print(f\"Employee Name: {emp.get_name()}\")\n",
    "print(f\"Employee Salary: {emp.get_salary()}\")"
   ]
  },
  {
   "cell_type": "code",
   "execution_count": null,
   "id": "c29b198b-96dd-42c5-9908-d42d7d5db940",
   "metadata": {},
   "outputs": [],
   "source": []
  }
 ],
 "metadata": {
  "kernelspec": {
   "display_name": "Python [conda env:base] *",
   "language": "python",
   "name": "conda-base-py"
  },
  "language_info": {
   "codemirror_mode": {
    "name": "ipython",
    "version": 3
   },
   "file_extension": ".py",
   "mimetype": "text/x-python",
   "name": "python",
   "nbconvert_exporter": "python",
   "pygments_lexer": "ipython3",
   "version": "3.12.7"
  }
 },
 "nbformat": 4,
 "nbformat_minor": 5
}
